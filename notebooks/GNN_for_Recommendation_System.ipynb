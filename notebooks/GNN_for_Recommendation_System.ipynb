{
  "cells": [
    {
      "cell_type": "markdown",
      "metadata": {
        "id": "rnewCYy4q7zb"
      },
      "source": [
        "# Download the dataset"
      ]
    },
    {
      "cell_type": "code",
      "execution_count": null,
      "metadata": {
        "colab": {
          "base_uri": "https://localhost:8080/"
        },
        "id": "oRKS0k4hq44v",
        "outputId": "6e6ef51c-687d-4820-8165-5a36924d8b7b"
      },
      "outputs": [
        {
          "output_type": "stream",
          "name": "stdout",
          "text": [
            "Looking in indexes: https://pypi.org/simple, https://us-python.pkg.dev/colab-wheels/public/simple/\n",
            "Requirement already satisfied: gdown in /usr/local/lib/python3.10/dist-packages (4.6.6)\n",
            "Requirement already satisfied: filelock in /usr/local/lib/python3.10/dist-packages (from gdown) (3.12.0)\n",
            "Requirement already satisfied: requests[socks] in /usr/local/lib/python3.10/dist-packages (from gdown) (2.27.1)\n",
            "Requirement already satisfied: six in /usr/local/lib/python3.10/dist-packages (from gdown) (1.16.0)\n",
            "Requirement already satisfied: tqdm in /usr/local/lib/python3.10/dist-packages (from gdown) (4.65.0)\n",
            "Requirement already satisfied: beautifulsoup4 in /usr/local/lib/python3.10/dist-packages (from gdown) (4.11.2)\n",
            "Requirement already satisfied: soupsieve>1.2 in /usr/local/lib/python3.10/dist-packages (from beautifulsoup4->gdown) (2.4.1)\n",
            "Requirement already satisfied: urllib3<1.27,>=1.21.1 in /usr/local/lib/python3.10/dist-packages (from requests[socks]->gdown) (1.26.15)\n",
            "Requirement already satisfied: certifi>=2017.4.17 in /usr/local/lib/python3.10/dist-packages (from requests[socks]->gdown) (2022.12.7)\n",
            "Requirement already satisfied: charset-normalizer~=2.0.0 in /usr/local/lib/python3.10/dist-packages (from requests[socks]->gdown) (2.0.12)\n",
            "Requirement already satisfied: idna<4,>=2.5 in /usr/local/lib/python3.10/dist-packages (from requests[socks]->gdown) (3.4)\n",
            "Requirement already satisfied: PySocks!=1.5.7,>=1.5.6 in /usr/local/lib/python3.10/dist-packages (from requests[socks]->gdown) (1.7.1)\n"
          ]
        },
        {
          "output_type": "stream",
          "name": "stderr",
          "text": [
            "Downloading...\n",
            "From: https://drive.google.com/uc?id=1X3IpoYxAJHIBlyG6QQ_rWhSGiF5E1aL8\n",
            "To: /content/dataset-ml-25m.zip\n",
            "100%|██████████| 262M/262M [00:08<00:00, 29.1MB/s]\n"
          ]
        }
      ],
      "source": [
        "# Install gdown\n",
        "!pip install gdown\n",
        "\n",
        "# Import libraries\n",
        "import pandas as pd\n",
        "import numpy as np\n",
        "import zipfile\n",
        "import gdown\n",
        "\n",
        "# Download and extract the dataset\n",
        "url = 'https://drive.google.com/uc?id=1X3IpoYxAJHIBlyG6QQ_rWhSGiF5E1aL8'\n",
        "output = '/content/dataset-ml-25m.zip'\n",
        "gdown.download(url, output, quiet=False)\n",
        "\n",
        "with zipfile.ZipFile('/content/dataset-ml-25m.zip', 'r') as zip_ref:\n",
        "    zip_ref.extractall('/content/')\n"
      ]
    },
    {
      "cell_type": "markdown",
      "metadata": {
        "id": "JCDunQfwwJre"
      },
      "source": [
        "# Main code to train and Evaluation"
      ]
    },
    {
      "cell_type": "code",
      "execution_count": null,
      "metadata": {
        "colab": {
          "base_uri": "https://localhost:8080/",
          "height": 1000
        },
        "id": "pZh-M_UqxhRP",
        "outputId": "ac68b5a8-c57f-4dde-d120-1082e90acb76"
      },
      "outputs": [
        {
          "metadata": {
            "tags": null
          },
          "name": "stdout",
          "output_type": "stream",
          "text": [
            "Looking in indexes: https://pypi.org/simple, https://us-python.pkg.dev/colab-wheels/public/simple/\n",
            "Requirement already satisfied: nearpy in /usr/local/lib/python3.10/dist-packages (1.0.0)\n",
            "Requirement already satisfied: bitarray in /usr/local/lib/python3.10/dist-packages (from nearpy) (2.7.3)\n",
            "Requirement already satisfied: future in /usr/local/lib/python3.10/dist-packages (from nearpy) (0.18.3)\n",
            "Requirement already satisfied: numpy in /usr/local/lib/python3.10/dist-packages (from nearpy) (1.22.4)\n",
            "Requirement already satisfied: scipy in /usr/local/lib/python3.10/dist-packages (from nearpy) (1.10.1)\n"
          ]
        },
        {
          "metadata": {
            "tags": null
          },
          "name": "stderr",
          "output_type": "stream",
          "text": [
            "<ipython-input-90-cbcdefe4f062>:98: FutureWarning: The default value of regex will change from True to False in a future version.\n",
            "  movies['title'] = movies['title'].str.replace('(\\(\\d{4}\\))', '').apply(lambda x: x.strip())\n"
          ]
        },
        {
          "metadata": {
            "tags": null
          },
          "name": "stdout",
          "output_type": "stream",
          "text": [
            "movieId        0\n",
            "title          0\n",
            "genres         0\n",
            "year         410\n",
            "genre_ids      0\n",
            "dtype: int64\n",
            "      movieId                                        title  \\\n",
            "15036   79607      Millions Game, The (Das Millionenspiel)   \n",
            "25387  123619                           Terrible Joe Moran   \n",
            "26284  125571         The Court-Martial of Jackie Robinson   \n",
            "26309  125632                                In Our Garden   \n",
            "26392  125958           Stephen Fry In America - New World   \n",
            "...       ...                                          ...   \n",
            "62071  207714                       Tales of Found Footage   \n",
            "62104  207884                             Enduring Destiny   \n",
            "62285  208597  Punk the Capital: Building a Sound Movement   \n",
            "62326  208763                 Yosemite: The Fate of Heaven   \n",
            "62380  208973          The Falklands War: The Untold Story   \n",
            "\n",
            "                                  genres  year  \\\n",
            "15036  [Action, Drama, Sci-Fi, Thriller]   NaN   \n",
            "25387               [(no genres listed)]   NaN   \n",
            "26284               [(no genres listed)]   NaN   \n",
            "26309               [(no genres listed)]   NaN   \n",
            "26392               [(no genres listed)]   NaN   \n",
            "...                                  ...   ...   \n",
            "62071               [(no genres listed)]   NaN   \n",
            "62104               [(no genres listed)]   NaN   \n",
            "62285                      [Documentary]   NaN   \n",
            "62326               [(no genres listed)]   NaN   \n",
            "62380               [(no genres listed)]   NaN   \n",
            "\n",
            "                                               genre_ids  \n",
            "15036  [0, 1, 0, 0, 0, 0, 0, 0, 1, 0, 0, 0, 0, 0, 0, ...  \n",
            "25387  [1, 0, 0, 0, 0, 0, 0, 0, 0, 0, 0, 0, 0, 0, 0, ...  \n",
            "26284  [1, 0, 0, 0, 0, 0, 0, 0, 0, 0, 0, 0, 0, 0, 0, ...  \n",
            "26309  [1, 0, 0, 0, 0, 0, 0, 0, 0, 0, 0, 0, 0, 0, 0, ...  \n",
            "26392  [1, 0, 0, 0, 0, 0, 0, 0, 0, 0, 0, 0, 0, 0, 0, ...  \n",
            "...                                                  ...  \n",
            "62071  [1, 0, 0, 0, 0, 0, 0, 0, 0, 0, 0, 0, 0, 0, 0, ...  \n",
            "62104  [1, 0, 0, 0, 0, 0, 0, 0, 0, 0, 0, 0, 0, 0, 0, ...  \n",
            "62285  [0, 0, 0, 0, 0, 0, 0, 1, 0, 0, 0, 0, 0, 0, 0, ...  \n",
            "62326  [1, 0, 0, 0, 0, 0, 0, 0, 0, 0, 0, 0, 0, 0, 0, ...  \n",
            "62380  [1, 0, 0, 0, 0, 0, 0, 0, 0, 0, 0, 0, 0, 0, 0, ...  \n",
            "\n",
            "[410 rows x 5 columns]\n",
            "userId       0\n",
            "movieId      0\n",
            "rating       0\n",
            "timestamp    0\n",
            "dtype: int64\n"
          ]
        },
        {
          "metadata": {
            "tags": null
          },
          "name": "stderr",
          "output_type": "stream",
          "text": [
            "/usr/local/lib/python3.10/dist-packages/sklearn/feature_extraction/text.py:528: UserWarning: The parameter 'token_pattern' will not be used since 'tokenizer' is not None'\n",
            "  warnings.warn(\n"
          ]
        },
        {
          "metadata": {
            "tags": null
          },
          "name": "stdout",
          "output_type": "stream",
          "text": [
            "num_movies: 209172\n",
            "num_users: 16658\n",
            "num_genres: 5\n",
            "Number of training samples: 2000007\n"
          ]
        },
        {
          "metadata": {
            "tags": null
          },
          "name": "stderr",
          "output_type": "stream",
          "text": [
            "0it [00:00, ?it/s]/usr/local/lib/python3.10/dist-packages/torch/nn/modules/loss.py:536: UserWarning: Using a target size (torch.Size([4096])) that is different to the input size (torch.Size([4096, 1])). This will likely lead to incorrect results due to broadcasting. Please ensure they have the same size.\n",
            "  return F.mse_loss(input, target, reduction=self.reduction)\n",
            "100it [05:22,  3.15s/it]"
          ]
        },
        {
          "metadata": {
            "tags": null
          },
          "name": "stdout",
          "output_type": "stream",
          "text": [
            "[1,   100] loss: 4.314\n"
          ]
        },
        {
          "metadata": {
            "tags": null
          },
          "name": "stderr",
          "output_type": "stream",
          "text": [
            "200it [10:47,  3.13s/it]"
          ]
        },
        {
          "metadata": {
            "tags": null
          },
          "name": "stdout",
          "output_type": "stream",
          "text": [
            "[1,   200] loss: 1.248\n"
          ]
        },
        {
          "metadata": {
            "tags": null
          },
          "name": "stderr",
          "output_type": "stream",
          "text": [
            "300it [16:06,  3.26s/it]"
          ]
        },
        {
          "metadata": {
            "tags": null
          },
          "name": "stdout",
          "output_type": "stream",
          "text": [
            "[1,   300] loss: 1.212\n"
          ]
        },
        {
          "output_type": "stream",
          "name": "stderr",
          "text": [
            "400it [21:12,  3.02s/it]"
          ]
        },
        {
          "output_type": "stream",
          "name": "stdout",
          "text": [
            "[1,   400] loss: 1.183\n"
          ]
        },
        {
          "output_type": "stream",
          "name": "stderr",
          "text": [
            "488it [25:39,  3.15s/it]\n",
            "/usr/local/lib/python3.10/dist-packages/torch/nn/modules/loss.py:536: UserWarning: Using a target size (torch.Size([64])) that is different to the input size (torch.Size([64, 1])). This will likely lead to incorrect results due to broadcasting. Please ensure they have the same size.\n",
            "  return F.mse_loss(input, target, reduction=self.reduction)\n"
          ]
        },
        {
          "output_type": "display_data",
          "data": {
            "text/plain": [
              "<Figure size 640x480 with 1 Axes>"
            ],
            "image/png": "[encoded data removed]"
          },
          "metadata": {}
        },
        {
          "output_type": "display_data",
          "data": {
            "text/plain": [
              "<Figure size 640x480 with 1 Axes>"
            ],
            "image/png": "[encoded data removed]"
          },
          "metadata": {}
        },
        {
          "output_type": "stream",
          "name": "stdout",
          "text": [
            "Test RMSE: 0.274\n",
            "Test precision: 62.306 %\n",
            "Test recall: 100.000 %\n",
            "Test F1 score: 76.776 %\n"
          ]
        }
      ],
      "source": [
        "# Import libraries\n",
        "!pip install nearpy\n",
        "import pandas as pd\n",
        "import numpy as np\n",
        "import torch\n",
        "import torch.nn.functional as F\n",
        "import torch.nn as nn\n",
        "import torch.optim as optim\n",
        "from torch.utils.data import DataLoader\n",
        "from sklearn.metrics import precision_score, recall_score, f1_score\n",
        "from sklearn.model_selection import train_test_split\n",
        "from sklearn.feature_extraction.text import CountVectorizer\n",
        "from sklearn.preprocessing import MultiLabelBinarizer\n",
        "from nearpy import Engine\n",
        "from nearpy.hashes import RandomBinaryProjections\n",
        "from nearpy.filters import NearestFilter\n",
        "from nearpy.distances import CosineDistance\n",
        "from torch.utils.data import Dataset\n",
        "from tqdm import tqdm\n",
        "import matplotlib.pyplot as plt\n",
        "import numpy as np\n",
        "\n",
        "class MovieLensNet(nn.Module):\n",
        "    def __init__(self, num_movies, num_users, num_genres_encoded, embedding_size, hidden_dim):\n",
        "        super(MovieLensNet, self).__init__()\n",
        "        self.num_movies = num_movies\n",
        "        self.num_users = num_users\n",
        "        self.num_genres_encoded = num_genres_encoded\n",
        "        self.movie_embedding = nn.Embedding(num_movies, embedding_size)\n",
        "        self.user_embedding = nn.Embedding(num_users, embedding_size)\n",
        "        self.fc1 = nn.Linear(embedding_size * 2 + num_genres_encoded, hidden_dim)\n",
        "        self.fc2 = nn.Linear(hidden_dim, 64)\n",
        "        self.fc3 = nn.Linear(64, 1)\n",
        "\n",
        "    def forward(self, movie_id, user_id, genre_id):\n",
        "        genre_id = torch.unsqueeze(genre_id, dim=2)\n",
        "        if genre_id.size() != (movie_id.size(0), self.num_genres_encoded, 1):\n",
        "            raise ValueError(f\"Expected genre_id to have size ({movie_id.size(0)}, {self.num_genres_encoded}, 1), but got size {genre_id.size()}\")\n",
        "        movie_emb = self.movie_embedding(movie_id)\n",
        "        user_emb = self.user_embedding(user_id)\n",
        "        movie_emb = torch.unsqueeze(movie_emb, dim=2)\n",
        "        user_emb = torch.unsqueeze(user_emb, dim=2)\n",
        "        x = torch.cat([movie_emb, user_emb, genre_id.float()], dim=1)\n",
        "        x = torch.flatten(x, start_dim=1)\n",
        "        x = F.relu(self.fc1(x))\n",
        "        x = F.relu(self.fc2(x))\n",
        "        x = self.fc3(x)\n",
        "        return x\n",
        "\n",
        "class MovieLensDataset(torch.utils.data.Dataset):\n",
        "    def __init__(self, data, movies, genres_encoded, mlb, max_genre_count, num_users):\n",
        "        self.data = data\n",
        "        self.movies = movies\n",
        "        self.genres_encoded = genres_encoded\n",
        "        self.mlb = mlb\n",
        "        self.max_genre_count = max_genre_count\n",
        "        self.num_users = num_users\n",
        "\n",
        "    def __len__(self):\n",
        "        return len(self.data)\n",
        "\n",
        "    def __getitem__(self, index):\n",
        "        row = self.data.iloc[index]\n",
        "        movie_id = torch.tensor(row[\"movieId\"], dtype=torch.long)\n",
        "        user_id = torch.tensor(row[\"userId\"], dtype=torch.long)\n",
        "        if user_id.min() < 0 or user_id.max() >= self.num_users:\n",
        "            print('self.num_users = ' , self.num_users)\n",
        "            raise ValueError(f\"Invalid user ID: {user_id}\")\n",
        "        movie_genres = self.movies.loc[self.movies['movieId'] == row['movieId'], 'genres'].iloc[0]\n",
        "        genre_indices = []\n",
        "        for genre in movie_genres.split('|'):\n",
        "            if genre in self.mlb.classes_:\n",
        "                genre_indices.append(np.where(self.mlb.classes_ == genre)[0][0])\n",
        "        if len(genre_indices) == 0:  # Add default value for empty genre tensor\n",
        "            genre_indices.append(0)\n",
        "        genre_id = torch.tensor(genre_indices, dtype=torch.long)\n",
        "        genre_id = torch.flatten(genre_id)[:self.max_genre_count]\n",
        "        genre_pad = torch.zeros(self.max_genre_count - genre_id.shape[0], dtype=torch.long)\n",
        "        genre_id = torch.cat([genre_id, genre_pad])\n",
        "        rating = torch.tensor(row[\"rating\"], dtype=torch.float)\n",
        "        return {\"movie_id\": movie_id, \"user_id\": user_id, \"genre_id\": genre_id, \"rating\": rating}\n",
        "\n",
        "\n",
        "\n",
        "# Load the dataset\n",
        "movies = pd.read_csv('/content/ml-25m/movies.csv')\n",
        "ratings = pd.read_csv('/content/ml-25m/ratings.csv')\n",
        "\n",
        "# choose 10 percent for faster result\n",
        "ratings = ratings.sort_values('userId')\n",
        "ratings = ratings.reset_index(drop=True)\n",
        "ten_percent = int(len(ratings) * 0.1)\n",
        "ratings = ratings.iloc[:ten_percent]\n",
        "\n",
        "# Clean the movies dataframe\n",
        "movies['year'] = movies['title'].str.extract('\\((\\d{4})\\)', expand=False)\n",
        "movies['year'] = pd.to_datetime(movies['year'], format='%Y').dt.year\n",
        "movies['title'] = movies['title'].str.replace('(\\(\\d{4}\\))', '').apply(lambda x: x.strip())\n",
        "\n",
        "# Filter the rating data to include only valid movie IDs\n",
        "valid_movie_ids = set(movies['movieId'])\n",
        "ratings = ratings[ratings['movieId'].isin(valid_movie_ids)]\n",
        "\n",
        "# Fill missing values in ratings dataframe\n",
        "ratings['rating'].fillna(ratings['rating'].mean(), inplace=True)\n",
        "\n",
        "# Redefine genre IDs\n",
        "movies['genres'] = movies['genres'].str.split('|')\n",
        "mlb = MultiLabelBinarizer()\n",
        "movies['genre_ids'] = mlb.fit_transform(movies['genres']).tolist()\n",
        "\n",
        "# Redefine movie IDs\n",
        "movies['movieId'] = movies['movieId'].astype('category')\n",
        "movies['movieId'] = movies['movieId'].cat.as_ordered()\n",
        "\n",
        "# Redefine user IDs\n",
        "ratings['userId'] = ratings['userId'].astype('category')\n",
        "ratings['userId'] = ratings['userId'].cat.codes\n",
        "\n",
        "# Check for missing or invalid values in movies dataframe\n",
        "print(movies.isnull().sum())\n",
        "print(movies[movies['year'].isnull()])\n",
        "\n",
        "# Check for missing or invalid values in ratings dataframe\n",
        "print(ratings.isnull().sum())\n",
        "\n",
        "# Convert movie genres to a list of strings\n",
        "movies['genres'] = movies['genres'].apply(lambda x: '|'.join(x))\n",
        "\n",
        "# Create a content-based filtering algorithm based on movie genres\n",
        "vectorizer = CountVectorizer(tokenizer=lambda x: x.split('|'))\n",
        "movie_genres = vectorizer.fit_transform(movies['genres'])\n",
        "mlb = MultiLabelBinarizer(sparse_output=True)\n",
        "genres_encoded = mlb.fit_transform(list(vectorizer.vocabulary_.keys()))\n",
        "genres_encoded = genres_encoded.astype(np.float32)\n",
        "\n",
        "# Define the dataset and dataloader\n",
        "train_data, test_data = train_test_split(ratings, test_size=0.2, random_state=42)\n",
        "num_users = ratings['userId'].max() + 1\n",
        "num_movies = max(ratings['movieId'].max(), movies['movieId'].max()) + 1\n",
        "num_genres = 5\n",
        "# max(genres_encoded.shape[1], len(mlb.classes_))\n",
        "\n",
        "train_dataset = MovieLensDataset(train_data, movies, genres_encoded, mlb, max_genre_count=5, num_users=num_users)\n",
        "test_dataset = MovieLensDataset(test_data, movies, genres_encoded, mlb, max_genre_count=5, num_users=num_users)\n",
        "import random\n",
        "from torch.utils.data import Subset\n",
        "\n",
        "# Define the downsampling factor\n",
        "downsample_factor = 1 # Use % of the data\n",
        "stop_i = 500 # for fast checking\n",
        "number_epochs = 1\n",
        "# Create a list of indices for the train and test sets\n",
        "num_train = len(train_data)\n",
        "train_indices = list(range(num_train))\n",
        "num_test = len(test_data)\n",
        "test_indices = list(range(num_test))\n",
        "\n",
        "# Randomly select a subset of the train and test indices\n",
        "random.shuffle(train_indices)\n",
        "random.shuffle(test_indices)\n",
        "train_indices = train_indices[:int(downsample_factor*num_train)]\n",
        "test_indices = test_indices[:int(downsample_factor*num_test)]\n",
        "\n",
        "# Create subsets of the train and test datasets\n",
        "train_subset = Subset(train_dataset, train_indices)\n",
        "test_subset = Subset(test_dataset, test_indices)\n",
        "\n",
        "# Create the train and test DataLoader objects with the subsets\n",
        "train_loader = DataLoader(train_subset, batch_size= 4096, shuffle=True, drop_last=True)\n",
        "test_loader = DataLoader(test_subset, batch_size=4096, shuffle=False, drop_last=True)\n",
        "# Set the hyperparameters and train the model\n",
        "embedding_dim = 16\n",
        "hidden_dim = 32\n",
        "dropout_p = 0.5\n",
        "\n",
        "print(f'num_movies: {num_movies}')\n",
        "print(f'num_users: {num_users}')\n",
        "print(f'num_genres: {num_genres}')\n",
        "\n",
        "model = MovieLensNet(num_movies,num_users, num_genres, embedding_size=32, hidden_dim=64)\n",
        "num_train_samples = len(train_loader.dataset)\n",
        "print(f\"Number of training samples: {num_train_samples}\")\n",
        "criterion = nn.MSELoss()\n",
        "optimizer = optim.Adam(model.parameters(), lr=0.001)\n",
        "for epoch in range(number_epochs):\n",
        "    running_loss = 0.0\n",
        "    for i, batch in tqdm(enumerate(train_loader)):\n",
        "        movie_id = batch['movie_id']\n",
        "        user_id = batch['user_id']\n",
        "        genre_id = batch['genre_id']\n",
        "        rating = batch['rating']\n",
        "        # print(f'movie_id shape: {movie_id.shape}')\n",
        "        # print(f'user_id shape: {user_id.shape}')\n",
        "        # print(f'genre_id shape: {genre_id.shape}')\n",
        "        # print('user_id' , user_id)\n",
        "        # print('model.num_users = ' , model.num_users)\n",
        "        output = model(movie_id, user_id, genre_id)\n",
        "        # print(f'output shape: {output.shape}')\n",
        "        loss = criterion(output, rating)\n",
        "        optimizer.zero_grad()\n",
        "        loss.backward()\n",
        "        optimizer.step()\n",
        "        running_loss += loss.item()\n",
        "        if (i + 1) % 100 == 0:\n",
        "            print('[%d, %5d] loss: %.3f' % (epoch + 1, i + 1, running_loss / 100))\n",
        "            running_loss = 0.0\n",
        "\n",
        "        if i+1 == stop_i:\n",
        "          break\n",
        "\n",
        "# Evaluate the model on the test set\n",
        "test_loader = DataLoader(test_dataset, batch_size=64, shuffle=False)\n",
        "model.eval()\n",
        "with torch.no_grad():\n",
        "    total_loss = 0.0\n",
        "    tp = 0\n",
        "    fp = 0\n",
        "    tn = 0\n",
        "    fn = 0\n",
        "\n",
        "    # Collect the predicted ratings and true ratings\n",
        "    all_predicted_ratings = []\n",
        "    all_true_ratings = []\n",
        "\n",
        "    for i, batch in enumerate(test_loader):\n",
        "        if i+1 == stop_i:\n",
        "          break\n",
        "        movie_id = batch['movie_id']\n",
        "        user_id = batch['user_id']\n",
        "        genre_id = batch['genre_id']\n",
        "        rating = batch['rating']\n",
        "        output = model(movie_id, user_id, genre_id)\n",
        "        loss = criterion(output, rating)\n",
        "        total_loss += loss.item()\n",
        "        predicted_labels = (output >= 2).float()  # Threshold at 4 or higher\n",
        "        tp += ((predicted_labels == 1) & (rating >= 3.5)).sum().item()\n",
        "        fp += ((predicted_labels == 1) & (rating < 3.5)).sum().item()\n",
        "        tn += ((predicted_labels == 0) & (rating < 3.5)).sum().item()\n",
        "        fn += ((predicted_labels == 0) & (rating >= 3.5)).sum().item()\n",
        "\n",
        "        all_predicted_ratings.extend(output.squeeze().tolist())\n",
        "        all_true_ratings.extend(rating.squeeze().tolist())\n",
        "\n",
        "    # Plot distribution of true and predicted ratings\n",
        "    plt.hist(all_true_ratings, bins=np.arange(0, 6, 0.5), alpha=0.5, label='True ratings')\n",
        "    plt.hist(all_predicted_ratings, bins=np.arange(0, 6, 0.5), alpha=0.5, label='Predicted ratings')\n",
        "    plt.xlabel('Rating')\n",
        "    plt.ylabel('Count')\n",
        "    plt.legend()\n",
        "    plt.show()\n",
        "\n",
        "    # Plot distribution of prediction errors\n",
        "    errors = np.array(all_true_ratings) - np.array(all_predicted_ratings)\n",
        "    plt.hist(errors, bins=np.arange(-3, 4, 0.5))\n",
        "    plt.xlabel('Prediction error')\n",
        "    plt.ylabel('Count')\n",
        "    plt.show()\n",
        "\n",
        "\n",
        "    ax.set_title(\"Confusion Matrix\")\n",
        "    ax.set_xlabel(\"Predicted\")\n",
        "    ax.set_ylabel(\"True\")\n",
        "    fig.tight_layout()\n",
        "    plt.show()\n",
        "    avg_loss = total_loss / len(test_loader)\n",
        "    print('Test RMSE: %.3f' % np.sqrt(avg_loss))\n",
        "    precision = tp / (tp + fp+0.000001)*100\n",
        "    recall = tp / (tp + fn+0.000001)*100\n",
        "    f1 = 2 * precision * recall / (precision + recall+0.000001)\n",
        "    print('Test precision: %.3f' % precision + ' %')\n",
        "    print('Test recall: %.3f' % recall + ' %')\n",
        "    print('Test F1 score: %.3f' % f1 + ' %')\n",
        "    # Compute the optimal threshold\n",
        "    thresholds = np.arange(2, 5.0, 0.1)\n",
        "    f1_scores = []\n",
        "    for threshold in thresholds:\n",
        "        predicted_labels = (torch.Tensor(all_predicted_ratings) >= threshold).float()\n",
        "        tp = ((predicted_labels == 1) & (torch.Tensor(all_true_ratings) >= 3.5)).sum().item()\n",
        "        fp = ((predicted_labels == 1) & (torch.Tensor(all_true_ratings) < 3.5)).sum().item()\n",
        "        tn = ((predicted_labels == 0) & (torch.Tensor(all_true_ratings) < 3.5)).sum().item()\n",
        "        fn = ((predicted_labels == 0) & (torch.Tensor(all_true_ratings) >= 3.5)).sum().item()\n",
        "        precision = tp / (tp + fp+0.000001)\n",
        "        recall = tp / (tp + fn+0.000001)\n",
        "        f1 = 2 * precision * recall / (precision + recall+0.000001)\n",
        "        f1_scores.append(f1)\n",
        "    optimal_threshold = thresholds[np.argmax(f1_scores)]\n",
        "    # print('Optimal threshold:', optimal_threshold)"
      ]
    }
  ],
  "metadata": {
    "accelerator": "GPU",
    "colab": {
      "provenance": []
    },
    "gpuClass": "standard",
    "kernelspec": {
      "display_name": "Python 3",
      "name": "python3"
    },
    "language_info": {
      "name": "python"
    }
  },
  "nbformat": 4,
  "nbformat_minor": 0
}